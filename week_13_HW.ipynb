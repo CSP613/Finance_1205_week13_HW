{
  "nbformat": 4,
  "nbformat_minor": 0,
  "metadata": {
    "colab": {
      "provenance": []
    },
    "kernelspec": {
      "name": "python3",
      "display_name": "Python 3"
    },
    "language_info": {
      "name": "python"
    }
  },
  "cells": [
    {
      "cell_type": "code",
      "source": [
        "import yfinance as yf\n",
        "import numpy as np\n",
        "import random\n",
        "\n",
        "np.random.seed(42)\n",
        "random.seed(42)"
      ],
      "metadata": {
        "id": "XOBceNg3QjUO"
      },
      "execution_count": 109,
      "outputs": []
    },
    {
      "cell_type": "code",
      "source": [
        "# 計算年化報酬\n",
        "def calculate_annual_return(data):\n",
        "    # 計算股票的年化報酬\n",
        "    total_days = (data.index[-1] - data.index[0]).days  # 總天數\n",
        "    years = total_days / 365.0  # 轉換成年\n",
        "    start_value = data.iloc[0]  # 開盤價\n",
        "    end_value = data.iloc[-1]  # 收盤價\n",
        "    return (end_value / start_value) ** (1 / years) - 1  # 計算年化報酬"
      ],
      "metadata": {
        "id": "sv1Iyp68QkY2"
      },
      "execution_count": 110,
      "outputs": []
    },
    {
      "cell_type": "code",
      "source": [
        "# 計算年化波動率\n",
        "def calculate_annual_risk(data):\n",
        "    daily_returns = data.pct_change().dropna()  # 計算每日變動\n",
        "    return daily_returns.std() * np.sqrt(len(daily_returns))  # 計算年化波動"
      ],
      "metadata": {
        "id": "EJ8nYmRzQl7S"
      },
      "execution_count": 111,
      "outputs": []
    },
    {
      "cell_type": "code",
      "source": [
        "# 抓取股市資料\n",
        "def get_stock_data(stocks, start_date, end_date):\n",
        "    stock_returns = []  # 存儲每支股票的報酬\n",
        "    stock_risks = []  # 存儲每支股票的風險\n",
        "    for stock_id in stocks:\n",
        "        data = yf.download(stock_id, start=start_date, end=end_date)['Adj Close']  # 下載股市資料\n",
        "        annual_return = calculate_annual_return(data)  # 計算報酬\n",
        "        annual_risk = calculate_annual_risk(data)  # 計算風險\n",
        "        stock_returns.append(annual_return)  # 添加到報酬清單\n",
        "        stock_risks.append(annual_risk)  # 添加到風險清單\n",
        "    return np.array(stock_returns), np.array(stock_risks)"
      ],
      "metadata": {
        "id": "0hkUF0QQQwfB"
      },
      "execution_count": 135,
      "outputs": []
    },
    {
      "cell_type": "code",
      "source": [
        "# 定義股市資料範圍與股票符號\n",
        "start_date = '2020-01-01'\n",
        "end_date = '2024-01-01'\n",
        "\n",
        "#台積電、聯發科、中華電信、長榮航、國泰金控、台泥、台灣塑膠、統一超商、中鋼、群創\n",
        "stocks_list = ['2330.TW', '2454.TW', '2412.TW', '2618.TW', '2882.TW',\n",
        "        '1101.TW', '1301.TW', '2912.TW', '2002.TW', '3481.TW']\n",
        "\n",
        "# 取得所有股票的報酬和風險資料\n",
        "stock_returns, stock_risks = get_stock_data(stocks_list, start_date, end_date)\n"
      ],
      "metadata": {
        "colab": {
          "base_uri": "https://localhost:8080/"
        },
        "id": "KLnoqLQnRDR6",
        "outputId": "0416b2f2-adff-4ba6-92a8-8bc91ecb8a17"
      },
      "execution_count": 136,
      "outputs": [
        {
          "output_type": "stream",
          "name": "stderr",
          "text": [
            "[*********************100%***********************]  1 of 1 completed\n",
            "[*********************100%***********************]  1 of 1 completed\n",
            "[*********************100%***********************]  1 of 1 completed\n",
            "[*********************100%***********************]  1 of 1 completed\n",
            "[*********************100%***********************]  1 of 1 completed\n",
            "[*********************100%***********************]  1 of 1 completed\n",
            "[*********************100%***********************]  1 of 1 completed\n",
            "[*********************100%***********************]  1 of 1 completed\n",
            "[*********************100%***********************]  1 of 1 completed\n",
            "[*********************100%***********************]  1 of 1 completed\n"
          ]
        }
      ]
    },
    {
      "cell_type": "code",
      "source": [
        "# 計算最大回撤\n",
        "def calculate_max_drawdown(data):\n",
        "    cumulative_returns = (1 + data).cumprod()  # 計算累積回報\n",
        "    peak = cumulative_returns.cummax()  # 計算歷史上的最高值\n",
        "    drawdown = (cumulative_returns - peak) / peak  # 計算回撤\n",
        "    max_drawdown = drawdown.min()  # 最大回撤是最小的回撤值\n",
        "    return max_drawdown\n"
      ],
      "metadata": {
        "id": "EbONzK8Gnu8k"
      },
      "execution_count": 137,
      "outputs": []
    },
    {
      "cell_type": "code",
      "source": [
        "# 基因演算法的基本設定\n",
        "population_size = 20  # 族群大小\n",
        "num_generations = 200  # 世代數\n",
        "mutation_rate = 0.3  # 突變率\n",
        "num_stocks = len(stocks_list)  # 股票數量"
      ],
      "metadata": {
        "id": "8STr26sMSMb_"
      },
      "execution_count": 138,
      "outputs": []
    },
    {
      "cell_type": "code",
      "source": [
        "# 適應度函數，用來計算每個投資組合的表現\n",
        "def fitness(chromosome):\n",
        "    portfolio_return = np.sum(chromosome * stock_returns)  # 計算投資組合的回報\n",
        "    portfolio_risk = np.sqrt(np.sum((chromosome * stock_risks) ** 2))  # 計算投資組合的風險\n",
        "    stock_count = np.sum(chromosome)  # 計算選中的股票數量\n",
        "\n",
        "    if portfolio_risk > 0:  # 避免風險為0的情況\n",
        "        sharpe_ratio = portfolio_return / portfolio_risk  # 計算夏普比率\n",
        "    else:\n",
        "        sharpe_ratio = 0\n",
        "\n",
        "    # 目標是最大化夏普比率並減少選股數量\n",
        "    return 0.8 * sharpe_ratio - 0.006 * stock_count"
      ],
      "metadata": {
        "id": "eI8xqIngSvPY"
      },
      "execution_count": 145,
      "outputs": []
    },
    {
      "cell_type": "code",
      "source": [
        "# 初始化族群\n",
        "def initialize_population():\n",
        "    return [np.random.randint(0, 2, num_stocks) for _ in range(population_size)]  # 隨機生成族群\n"
      ],
      "metadata": {
        "id": "gbUVE9dXS1Jb"
      },
      "execution_count": 140,
      "outputs": []
    },
    {
      "cell_type": "code",
      "source": [
        "# 選擇操作，根據適應度選擇較好的個體\n",
        "def select(population, fitness_scores):\n",
        "    min_fitness = min(fitness_scores)  # 找到最小的適應度\n",
        "    shifted_fitness = [f - min_fitness + 1e-6 for f in fitness_scores]  # 平移適應度，使其不為負\n",
        "    total_fitness = sum(shifted_fitness)  # 計算總適應度\n",
        "    probs = [f / total_fitness for f in shifted_fitness]  # 計算每個個體被選中的機率\n",
        "    return population[np.random.choice(range(population_size), p=probs)]  # 按照機率選擇父母\n"
      ],
      "metadata": {
        "id": "i6Iyl-WjS309"
      },
      "execution_count": 141,
      "outputs": []
    },
    {
      "cell_type": "code",
      "source": [
        "# 交配操作，將兩個父母的基因組合成新個體\n",
        "def crossover(parent1, parent2):\n",
        "    point = np.random.randint(1, num_stocks - 1)  # 隨機選擇交配點\n",
        "    child1 = np.concatenate((parent1[:point], parent2[point:]))  # 第一個小孩\n",
        "    child2 = np.concatenate((parent2[:point], parent1[point:]))  # 第二個小孩\n",
        "    return child1, child2"
      ],
      "metadata": {
        "id": "JwvC_If3S9sQ"
      },
      "execution_count": 142,
      "outputs": []
    },
    {
      "cell_type": "code",
      "source": [
        "# 突變操作，隨機改變個體的基因\n",
        "def mutate(chromosome):\n",
        "    for i in range(num_stocks):\n",
        "        if random.random() < mutation_rate:  # 根據突變率隨機改變基因\n",
        "            chromosome[i] = 1 - chromosome[i]  # 基因翻轉\n",
        "    return chromosome"
      ],
      "metadata": {
        "id": "BaXfxNTwS_wR"
      },
      "execution_count": 127,
      "outputs": []
    },
    {
      "cell_type": "code",
      "source": [
        "# 基因演算法的主程式\n",
        "def genetic_algorithm():\n",
        "    population = initialize_population()  # 初始化族群\n",
        "    for generation in range(num_generations):  # 進行多代演化\n",
        "        fitness_scores = [fitness(chromosome) for chromosome in population]  # 計算適應度\n",
        "        new_population = []  # 用來存儲新一代的族群\n",
        "        for _ in range(population_size // 2):  # 每次交配兩個父母\n",
        "            parent1 = select(population, fitness_scores)  # 選擇第一個父母\n",
        "            parent2 = select(population, fitness_scores)  # 選擇第二個父母\n",
        "            child1, child2 = crossover(parent1, parent2)  # 交配產生小孩\n",
        "            child1 = mutate(child1)  # 突變小孩1\n",
        "            child2 = mutate(child2)  # 突變小孩2\n",
        "            new_population.append(child1)  # 加入新族群\n",
        "            new_population.append(child2)\n",
        "        population = new_population  # 更新族群\n",
        "        best_fitness = max(fitness_scores)  # 取出最好的適應度\n",
        "        print(f\"Generation {generation + 1}: Best Fitness = {best_fitness}\")  # 印出進度\n",
        "    best_index = np.argmax([fitness(chromosome) for chromosome in population])  # 找到最好的組合\n",
        "    return population[best_index]"
      ],
      "metadata": {
        "id": "yr72Q9gOTCzu"
      },
      "execution_count": 143,
      "outputs": []
    },
    {
      "cell_type": "code",
      "source": [
        "# 執行基因演算法\n",
        "best_portfolio = genetic_algorithm()\n",
        "print(\"\\n最佳選股組合:\", best_portfolio)\n",
        "print(\"總報酬:\", np.sum(best_portfolio * stock_returns))  # 計算總回報\n",
        "print(\"總風險:\", np.sqrt(np.sum((best_portfolio * stock_risks) ** 2)))  # 計算總風險\n"
      ],
      "metadata": {
        "colab": {
          "base_uri": "https://localhost:8080/"
        },
        "id": "RNlvbhQtTIsN",
        "outputId": "7f1a4707-a0fa-4181-e7d8-1d623afe0324"
      },
      "execution_count": 146,
      "outputs": [
        {
          "output_type": "stream",
          "name": "stdout",
          "text": [
            "Generation 1: Best Fitness = 1.3548441598827692\n",
            "Generation 2: Best Fitness = 1.270240553329512\n",
            "Generation 3: Best Fitness = 1.433940927601577\n",
            "Generation 4: Best Fitness = 1.354844159882769\n",
            "Generation 5: Best Fitness = 1.354844159882769\n",
            "Generation 6: Best Fitness = 1.3548441598827692\n",
            "Generation 7: Best Fitness = 1.3548441598827694\n",
            "Generation 8: Best Fitness = 1.433940927601577\n",
            "Generation 9: Best Fitness = 1.433940927601577\n",
            "Generation 10: Best Fitness = 1.3548441598827694\n",
            "Generation 11: Best Fitness = 1.3548441598827694\n",
            "Generation 12: Best Fitness = 1.3548441598827694\n",
            "Generation 13: Best Fitness = 1.4339409276015769\n",
            "Generation 14: Best Fitness = 1.3548441598827694\n",
            "Generation 15: Best Fitness = 1.270240553329512\n",
            "Generation 16: Best Fitness = 1.4339409276015769\n",
            "Generation 17: Best Fitness = 1.4339409276015769\n",
            "Generation 18: Best Fitness = 1.354844159882769\n",
            "Generation 19: Best Fitness = 1.3548441598827694\n",
            "Generation 20: Best Fitness = 1.3548441598827694\n",
            "Generation 21: Best Fitness = 1.270240553329512\n",
            "Generation 22: Best Fitness = 1.3548441598827694\n",
            "Generation 23: Best Fitness = 1.3548441598827694\n",
            "Generation 24: Best Fitness = 1.3548441598827692\n",
            "Generation 25: Best Fitness = 1.270240553329512\n",
            "Generation 26: Best Fitness = 1.354844159882769\n",
            "Generation 27: Best Fitness = 1.2702405533295118\n",
            "Generation 28: Best Fitness = 1.270240553329512\n",
            "Generation 29: Best Fitness = 1.1788986800091166\n",
            "Generation 30: Best Fitness = 1.3548441598827692\n",
            "Generation 31: Best Fitness = 1.4339409276015769\n",
            "Generation 32: Best Fitness = 1.3548441598827694\n",
            "Generation 33: Best Fitness = 1.3548441598827692\n",
            "Generation 34: Best Fitness = 1.3548441598827694\n",
            "Generation 35: Best Fitness = 1.433940927601577\n",
            "Generation 36: Best Fitness = 1.3548441598827694\n",
            "Generation 37: Best Fitness = 1.3548441598827694\n",
            "Generation 38: Best Fitness = 1.433940927601577\n",
            "Generation 39: Best Fitness = 1.5084274516682274\n",
            "Generation 40: Best Fitness = 1.270240553329512\n",
            "Generation 41: Best Fitness = 1.4339409276015769\n",
            "Generation 42: Best Fitness = 1.3548441598827692\n",
            "Generation 43: Best Fitness = 1.433940927601577\n",
            "Generation 44: Best Fitness = 1.433940927601577\n",
            "Generation 45: Best Fitness = 1.3548441598827692\n",
            "Generation 46: Best Fitness = 1.4339409276015769\n",
            "Generation 47: Best Fitness = 1.3548441598827692\n",
            "Generation 48: Best Fitness = 1.270240553329512\n",
            "Generation 49: Best Fitness = 1.4339409276015769\n",
            "Generation 50: Best Fitness = 1.5084274516682274\n",
            "Generation 51: Best Fitness = 1.3548441598827694\n",
            "Generation 52: Best Fitness = 1.433940927601577\n",
            "Generation 53: Best Fitness = 1.4339409276015769\n",
            "Generation 54: Best Fitness = 1.3548441598827694\n",
            "Generation 55: Best Fitness = 1.433940927601577\n",
            "Generation 56: Best Fitness = 1.433940927601577\n",
            "Generation 57: Best Fitness = 1.433940927601577\n",
            "Generation 58: Best Fitness = 1.354844159882769\n",
            "Generation 59: Best Fitness = 1.3548441598827692\n",
            "Generation 60: Best Fitness = 1.3548441598827692\n",
            "Generation 61: Best Fitness = 1.3548441598827692\n",
            "Generation 62: Best Fitness = 1.270240553329512\n",
            "Generation 63: Best Fitness = 1.3548441598827692\n",
            "Generation 64: Best Fitness = 1.2702405533295118\n",
            "Generation 65: Best Fitness = 1.354844159882769\n",
            "Generation 66: Best Fitness = 1.3548441598827694\n",
            "Generation 67: Best Fitness = 1.4339409276015769\n",
            "Generation 68: Best Fitness = 1.3548441598827694\n",
            "Generation 69: Best Fitness = 1.433940927601577\n",
            "Generation 70: Best Fitness = 1.2702405533295118\n",
            "Generation 71: Best Fitness = 1.3548441598827694\n",
            "Generation 72: Best Fitness = 1.4339409276015769\n",
            "Generation 73: Best Fitness = 1.4339409276015769\n",
            "Generation 74: Best Fitness = 1.433940927601577\n",
            "Generation 75: Best Fitness = 1.4339409276015769\n",
            "Generation 76: Best Fitness = 1.433940927601577\n",
            "Generation 77: Best Fitness = 1.3548441598827694\n",
            "Generation 78: Best Fitness = 1.4339409276015769\n",
            "Generation 79: Best Fitness = 1.4339409276015769\n",
            "Generation 80: Best Fitness = 1.3548441598827694\n",
            "Generation 81: Best Fitness = 1.3548441598827692\n",
            "Generation 82: Best Fitness = 1.4339409276015769\n",
            "Generation 83: Best Fitness = 1.354844159882769\n",
            "Generation 84: Best Fitness = 1.3548441598827694\n",
            "Generation 85: Best Fitness = 1.4339409276015769\n",
            "Generation 86: Best Fitness = 1.4339409276015769\n",
            "Generation 87: Best Fitness = 1.3548441598827692\n",
            "Generation 88: Best Fitness = 1.3548441598827694\n",
            "Generation 89: Best Fitness = 1.4339409276015769\n",
            "Generation 90: Best Fitness = 1.2702405533295118\n",
            "Generation 91: Best Fitness = 1.354844159882769\n",
            "Generation 92: Best Fitness = 1.354844159882769\n",
            "Generation 93: Best Fitness = 1.270240553329512\n",
            "Generation 94: Best Fitness = 1.3548441598827692\n",
            "Generation 95: Best Fitness = 1.3548441598827692\n",
            "Generation 96: Best Fitness = 1.3548441598827692\n",
            "Generation 97: Best Fitness = 1.3548441598827694\n",
            "Generation 98: Best Fitness = 1.3548441598827694\n",
            "Generation 99: Best Fitness = 1.270240553329512\n",
            "Generation 100: Best Fitness = 1.3548441598827694\n",
            "Generation 101: Best Fitness = 1.3548441598827692\n",
            "Generation 102: Best Fitness = 1.354844159882769\n",
            "Generation 103: Best Fitness = 1.3548441598827692\n",
            "Generation 104: Best Fitness = 1.3548441598827694\n",
            "Generation 105: Best Fitness = 1.5084274516682274\n",
            "Generation 106: Best Fitness = 1.354844159882769\n",
            "Generation 107: Best Fitness = 1.2702405533295118\n",
            "Generation 108: Best Fitness = 1.3548441598827694\n",
            "Generation 109: Best Fitness = 1.270240553329512\n",
            "Generation 110: Best Fitness = 1.2702405533295118\n",
            "Generation 111: Best Fitness = 1.354844159882769\n",
            "Generation 112: Best Fitness = 1.3548441598827692\n",
            "Generation 113: Best Fitness = 1.3548441598827694\n",
            "Generation 114: Best Fitness = 1.433940927601577\n",
            "Generation 115: Best Fitness = 1.3548441598827694\n",
            "Generation 116: Best Fitness = 1.3548441598827694\n",
            "Generation 117: Best Fitness = 1.433940927601577\n",
            "Generation 118: Best Fitness = 1.3548441598827694\n",
            "Generation 119: Best Fitness = 1.3548441598827692\n",
            "Generation 120: Best Fitness = 1.3548441598827694\n",
            "Generation 121: Best Fitness = 1.4339409276015769\n",
            "Generation 122: Best Fitness = 1.3548441598827694\n",
            "Generation 123: Best Fitness = 1.3548441598827694\n",
            "Generation 124: Best Fitness = 1.354844159882769\n",
            "Generation 125: Best Fitness = 1.354844159882769\n",
            "Generation 126: Best Fitness = 1.3548441598827694\n",
            "Generation 127: Best Fitness = 1.3548441598827692\n",
            "Generation 128: Best Fitness = 1.354844159882769\n",
            "Generation 129: Best Fitness = 1.4339409276015769\n",
            "Generation 130: Best Fitness = 1.3548441598827694\n",
            "Generation 131: Best Fitness = 1.354844159882769\n",
            "Generation 132: Best Fitness = 1.270240553329512\n",
            "Generation 133: Best Fitness = 1.3548441598827692\n",
            "Generation 134: Best Fitness = 1.3548441598827694\n",
            "Generation 135: Best Fitness = 1.433940927601577\n",
            "Generation 136: Best Fitness = 1.3548441598827694\n",
            "Generation 137: Best Fitness = 1.2702405533295118\n",
            "Generation 138: Best Fitness = 1.3548441598827694\n",
            "Generation 139: Best Fitness = 1.3548441598827694\n",
            "Generation 140: Best Fitness = 1.4339409276015769\n",
            "Generation 141: Best Fitness = 1.270240553329512\n",
            "Generation 142: Best Fitness = 1.270240553329512\n",
            "Generation 143: Best Fitness = 1.354844159882769\n",
            "Generation 144: Best Fitness = 1.433940927601577\n",
            "Generation 145: Best Fitness = 1.3548441598827692\n",
            "Generation 146: Best Fitness = 1.3548441598827694\n",
            "Generation 147: Best Fitness = 1.4339409276015769\n",
            "Generation 148: Best Fitness = 1.4339409276015769\n",
            "Generation 149: Best Fitness = 1.270240553329512\n",
            "Generation 150: Best Fitness = 1.433940927601577\n",
            "Generation 151: Best Fitness = 1.354844159882769\n",
            "Generation 152: Best Fitness = 1.354844159882769\n",
            "Generation 153: Best Fitness = 1.270240553329512\n",
            "Generation 154: Best Fitness = 1.354844159882769\n",
            "Generation 155: Best Fitness = 1.4339409276015769\n",
            "Generation 156: Best Fitness = 1.354844159882769\n",
            "Generation 157: Best Fitness = 1.3548441598827694\n",
            "Generation 158: Best Fitness = 1.270240553329512\n",
            "Generation 159: Best Fitness = 1.3548441598827694\n",
            "Generation 160: Best Fitness = 1.3548441598827694\n",
            "Generation 161: Best Fitness = 1.2702405533295118\n",
            "Generation 162: Best Fitness = 1.3548441598827694\n",
            "Generation 163: Best Fitness = 1.3548441598827694\n",
            "Generation 164: Best Fitness = 1.433940927601577\n",
            "Generation 165: Best Fitness = 1.3548441598827694\n",
            "Generation 166: Best Fitness = 1.433940927601577\n",
            "Generation 167: Best Fitness = 1.4339409276015769\n",
            "Generation 168: Best Fitness = 1.270240553329512\n",
            "Generation 169: Best Fitness = 1.3548441598827692\n",
            "Generation 170: Best Fitness = 1.354844159882769\n",
            "Generation 171: Best Fitness = 1.4339409276015769\n",
            "Generation 172: Best Fitness = 1.2702405533295118\n",
            "Generation 173: Best Fitness = 1.3548441598827694\n",
            "Generation 174: Best Fitness = 1.3548441598827692\n",
            "Generation 175: Best Fitness = 1.433940927601577\n",
            "Generation 176: Best Fitness = 1.433940927601577\n",
            "Generation 177: Best Fitness = 1.3548441598827694\n",
            "Generation 178: Best Fitness = 1.354844159882769\n",
            "Generation 179: Best Fitness = 1.354844159882769\n",
            "Generation 180: Best Fitness = 1.3548441598827692\n",
            "Generation 181: Best Fitness = 1.2702405533295118\n",
            "Generation 182: Best Fitness = 1.4339409276015769\n",
            "Generation 183: Best Fitness = 1.270240553329512\n",
            "Generation 184: Best Fitness = 1.3548441598827692\n",
            "Generation 185: Best Fitness = 1.4339409276015769\n",
            "Generation 186: Best Fitness = 1.354844159882769\n",
            "Generation 187: Best Fitness = 1.433940927601577\n",
            "Generation 188: Best Fitness = 1.2702405533295118\n",
            "Generation 189: Best Fitness = 1.3548441598827692\n",
            "Generation 190: Best Fitness = 1.4339409276015769\n",
            "Generation 191: Best Fitness = 1.3548441598827694\n",
            "Generation 192: Best Fitness = 1.433940927601577\n",
            "Generation 193: Best Fitness = 1.4339409276015769\n",
            "Generation 194: Best Fitness = 1.3548441598827694\n",
            "Generation 195: Best Fitness = 1.4339409276015769\n",
            "Generation 196: Best Fitness = 1.2702405533295118\n",
            "Generation 197: Best Fitness = 1.354844159882769\n",
            "Generation 198: Best Fitness = 1.3548441598827692\n",
            "Generation 199: Best Fitness = 1.3548441598827692\n",
            "Generation 200: Best Fitness = 1.354844159882769\n",
            "\n",
            "最佳選股組合: [1 1 1 0 1 1 0 1 1 1]\n",
            "總報酬: 9.08894504373214\n",
            "總風險: 5.183153084939482\n"
          ]
        }
      ]
    },
    {
      "cell_type": "code",
      "source": [
        "# 顯示結果\n",
        "def summarize_results(best_portfolio):\n",
        "    print(\"最佳選股組合:\", best_portfolio)\n",
        "    print(\"總報酬:\", np.sum(best_portfolio * stock_returns))\n",
        "    print(\"總風險:\", np.sqrt(np.sum((best_portfolio * stock_risks) ** 2)))\n",
        "    print(\"\\n股票的選擇狀態:\")\n",
        "    for i, stock in enumerate(stocks_list):\n",
        "        print(f\"{stock}: {'選擇' if best_portfolio[i] == 1 else '不選擇'}\")\n",
        "\n",
        "summarize_results(best_portfolio)  # 顯示最終的投資組合選擇"
      ],
      "metadata": {
        "colab": {
          "base_uri": "https://localhost:8080/"
        },
        "id": "q5yCFGloTN3W",
        "outputId": "a4b9bb48-7ce4-415d-aa6d-831f1b268046"
      },
      "execution_count": 147,
      "outputs": [
        {
          "output_type": "stream",
          "name": "stdout",
          "text": [
            "最佳選股組合: [1 1 1 0 1 1 0 1 1 1]\n",
            "總報酬: 9.08894504373214\n",
            "總風險: 5.183153084939482\n",
            "\n",
            "股票的選擇狀態:\n",
            "2330.TW: 選擇\n",
            "2454.TW: 選擇\n",
            "2412.TW: 選擇\n",
            "2618.TW: 不選擇\n",
            "2882.TW: 選擇\n",
            "1101.TW: 選擇\n",
            "1301.TW: 不選擇\n",
            "2912.TW: 選擇\n",
            "2002.TW: 選擇\n",
            "3481.TW: 選擇\n"
          ]
        }
      ]
    }
  ]
}